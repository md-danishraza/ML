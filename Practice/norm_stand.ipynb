{
 "cells": [
  {
   "cell_type": "markdown",
   "metadata": {},
   "source": [
    "## Normalization(min max scaling) and standardization(z-score scaling)"
   ]
  },
  {
   "cell_type": "markdown",
   "metadata": {},
   "source": [
    "### sample dataset\n",
    "#### using built in funtions"
   ]
  },
  {
   "cell_type": "code",
   "execution_count": 1,
   "metadata": {},
   "outputs": [
    {
     "name": "stdout",
     "output_type": "stream",
     "text": [
      "   Height  weight\n",
      "0     150      50\n",
      "1     160      55\n",
      "2     165      60\n",
      "3     170      65\n",
      "4     175      70\n",
      "5     180      75\n",
      "6     185      80\n"
     ]
    }
   ],
   "source": [
    "# imports and sample dataset\n",
    "import pandas as pd\n",
    "\n",
    "data = {\n",
    "    'Height': [150, 160, 165, 170, 175, 180, 185],\n",
    "    'weight': [50, 55, 60, 65, 70, 75, 80]\n",
    "}\n",
    "\n",
    "df = pd.DataFrame(data)\n",
    "print(df)"
   ]
  },
  {
   "cell_type": "code",
   "execution_count": 3,
   "metadata": {},
   "outputs": [
    {
     "name": "stdout",
     "output_type": "stream",
     "text": [
      "   Height  weight  normalized- Height  normalized- weight  \\\n",
      "0     150      50            0.000000            0.000000   \n",
      "1     160      55            0.285714            0.166667   \n",
      "2     165      60            0.428571            0.333333   \n",
      "3     170      65            0.571429            0.500000   \n",
      "4     175      70            0.714286            0.666667   \n",
      "5     180      75            0.857143            0.833333   \n",
      "6     185      80            1.000000            1.000000   \n",
      "\n",
      "   standardized- Height  standardized- weight  \n",
      "0             -1.600278              -1.38873  \n",
      "1             -0.770504              -0.92582  \n",
      "2             -0.355617              -0.46291  \n",
      "3              0.059270               0.00000  \n",
      "4              0.474156               0.46291  \n",
      "5              0.889043               0.92582  \n",
      "6              1.303930               1.38873  \n"
     ]
    }
   ],
   "source": [
    "# normalizing using min-max\n",
    "for column in df.columns[:2]:\n",
    "    min = df[column].min()\n",
    "    max = df[column].max()\n",
    "\n",
    "    df[f\"normalized- {column}\"] = (df[column]-min)/(max-min)\n",
    "\n",
    "# normalizing using mean and sd\n",
    "for column in df.columns[:2]:\n",
    "    mean = df[column].mean()\n",
    "    std = df[column].std()\n",
    "\n",
    "    df[f\"standardized- {column}\"] = (df[column]-mean)/std\n",
    "\n",
    "print(df)"
   ]
  },
  {
   "cell_type": "markdown",
   "metadata": {},
   "source": [
    "#### using functions of library scikit learn "
   ]
  },
  {
   "cell_type": "code",
   "execution_count": 4,
   "metadata": {},
   "outputs": [
    {
     "name": "stdout",
     "output_type": "stream",
     "text": [
      "\n",
      "Standardized DataFrame:\n",
      "     Height  weight\n",
      "0 -1.728498    -1.5\n",
      "1 -0.832240    -1.0\n",
      "2 -0.384111    -0.5\n",
      "3  0.064018     0.0\n",
      "4  0.512148     0.5\n",
      "5  0.960277     1.0\n",
      "6  1.408406     1.5\n"
     ]
    }
   ],
   "source": [
    "from sklearn.preprocessing import StandardScaler\n",
    "\n",
    "scaler = StandardScaler()\n",
    "# taking all rows and first two columns\n",
    "standardized = scaler.fit_transform(df.iloc[:,:2])\n",
    "# creating a dataframe out of it\n",
    "df_standardized = pd.DataFrame(standardized, columns=df.columns[:2])\n",
    "print(\"\\nStandardized DataFrame:\")\n",
    "print(df_standardized)"
   ]
  },
  {
   "cell_type": "code",
   "execution_count": 5,
   "metadata": {},
   "outputs": [
    {
     "name": "stdout",
     "output_type": "stream",
     "text": [
      "\n",
      "Normalized DataFrame:\n",
      "     Height    weight\n",
      "0  0.000000  0.000000\n",
      "1  0.285714  0.166667\n",
      "2  0.428571  0.333333\n",
      "3  0.571429  0.500000\n",
      "4  0.714286  0.666667\n",
      "5  0.857143  0.833333\n",
      "6  1.000000  1.000000\n"
     ]
    }
   ],
   "source": [
    "from sklearn.preprocessing import MinMaxScaler\n",
    "\n",
    "normalizer = MinMaxScaler()\n",
    "normalized = normalizer.fit_transform(df.iloc[:,:2])\n",
    "\n",
    "df_normalized = pd.DataFrame(normalized, columns=df.columns[:2])\n",
    "print(\"\\nNormalized DataFrame:\")\n",
    "print(df_normalized)"
   ]
  },
  {
   "cell_type": "markdown",
   "metadata": {},
   "source": [
    "### Open - source dataset (boston housing dataset)"
   ]
  },
  {
   "cell_type": "code",
   "execution_count": 31,
   "metadata": {},
   "outputs": [
    {
     "name": "stdout",
     "output_type": "stream",
     "text": [
      "      crim    zn  indus  chas    nox     rm   age     dis  rad  tax  ptratio  \\\n",
      "0  0.00632  18.0   2.31     0  0.538  6.575  65.2  4.0900    1  296     15.3   \n",
      "1  0.02731   0.0   7.07     0  0.469  6.421  78.9  4.9671    2  242     17.8   \n",
      "2  0.02729   0.0   7.07     0  0.469  7.185  61.1  4.9671    2  242     17.8   \n",
      "3  0.03237   0.0   2.18     0  0.458  6.998  45.8  6.0622    3  222     18.7   \n",
      "4  0.06905   0.0   2.18     0  0.458  7.147  54.2  6.0622    3  222     18.7   \n",
      "\n",
      "        b  lstat  medv  \n",
      "0  396.90   4.98  24.0  \n",
      "1  396.90   9.14  21.6  \n",
      "2  392.83   4.03  34.7  \n",
      "3  394.63   2.94  33.4  \n",
      "4  396.90   5.33  36.2  \n"
     ]
    }
   ],
   "source": [
    "import pandas as pd\n",
    "\n",
    "# Loading the dataset\n",
    "\n",
    "df = pd.read_csv(\"./datasets/BostonHousing.csv\")\n",
    "\n",
    "print(df.head())"
   ]
  },
  {
   "cell_type": "code",
   "execution_count": 32,
   "metadata": {},
   "outputs": [
    {
     "name": "stdout",
     "output_type": "stream",
     "text": [
      "\n",
      "Standardized DataFrame:\n",
      "       crim        zn     indus      chas       nox        rm       age  \\\n",
      "0 -0.419782  0.284830 -1.287909 -0.272599 -0.144217  0.413672 -0.120013   \n",
      "1 -0.417339 -0.487722 -0.593381 -0.272599 -0.740262  0.194274  0.367166   \n",
      "2 -0.417342 -0.487722 -0.593381 -0.272599 -0.740262  1.282714 -0.265812   \n",
      "3 -0.416750 -0.487722 -1.306878 -0.272599 -0.835284  1.016303 -0.809889   \n",
      "4 -0.412482 -0.487722 -1.306878 -0.272599 -0.835284  1.228577 -0.511180   \n",
      "\n",
      "        dis       rad       tax   ptratio         b     lstat      medv  \n",
      "0  0.140214 -0.982843 -0.666608 -1.459000  0.441052 -1.075562  0.159686  \n",
      "1  0.557160 -0.867883 -0.987329 -0.303094  0.441052 -0.492439 -0.101524  \n",
      "2  0.557160 -0.867883 -0.987329 -0.303094  0.396427 -1.208727  1.324247  \n",
      "3  1.077737 -0.752922 -1.106115  0.113032  0.416163 -1.361517  1.182758  \n",
      "4  1.077737 -0.752922 -1.106115  0.113032  0.441052 -1.026501  1.487503  \n"
     ]
    }
   ],
   "source": [
    "from sklearn.preprocessing import StandardScaler\n",
    "\n",
    "scaler = StandardScaler()\n",
    "df_standardized = pd.DataFrame(scaler.fit_transform(df), columns=df.columns)\n",
    "\n",
    "print(\"\\nStandardized DataFrame:\")\n",
    "print(df_standardized.head())"
   ]
  },
  {
   "cell_type": "code",
   "execution_count": 33,
   "metadata": {},
   "outputs": [
    {
     "name": "stdout",
     "output_type": "stream",
     "text": [
      "\n",
      "Normalized DataFrame:\n",
      "       crim    zn     indus  chas       nox        rm       age       dis  \\\n",
      "0  0.000000  0.18  0.067815   0.0  0.314815  0.577505  0.641607  0.269203   \n",
      "1  0.000236  0.00  0.242302   0.0  0.172840  0.547998  0.782698  0.348962   \n",
      "2  0.000236  0.00  0.242302   0.0  0.172840  0.694386  0.599382  0.348962   \n",
      "3  0.000293  0.00  0.063050   0.0  0.150206  0.658555  0.441813  0.448545   \n",
      "4  0.000705  0.00  0.063050   0.0  0.150206  0.687105  0.528321  0.448545   \n",
      "\n",
      "        rad       tax   ptratio         b     lstat      medv  \n",
      "0  0.000000  0.208015  0.287234  1.000000  0.089680  0.422222  \n",
      "1  0.043478  0.104962  0.553191  1.000000  0.204470  0.368889  \n",
      "2  0.043478  0.104962  0.553191  0.989737  0.063466  0.660000  \n",
      "3  0.086957  0.066794  0.648936  0.994276  0.033389  0.631111  \n",
      "4  0.086957  0.066794  0.648936  1.000000  0.099338  0.693333  \n"
     ]
    }
   ],
   "source": [
    "from sklearn.preprocessing import MinMaxScaler\n",
    "\n",
    "normalizer = MinMaxScaler()\n",
    "df_normalized = pd.DataFrame(normalizer.fit_transform(df), columns=df.columns)\n",
    "\n",
    "print(\"\\nNormalized DataFrame:\")\n",
    "print(df_normalized.head())"
   ]
  }
 ],
 "metadata": {
  "kernelspec": {
   "display_name": "Python 3",
   "language": "python",
   "name": "python3"
  },
  "language_info": {
   "codemirror_mode": {
    "name": "ipython",
    "version": 3
   },
   "file_extension": ".py",
   "mimetype": "text/x-python",
   "name": "python",
   "nbconvert_exporter": "python",
   "pygments_lexer": "ipython3",
   "version": "3.11.5"
  }
 },
 "nbformat": 4,
 "nbformat_minor": 2
}
